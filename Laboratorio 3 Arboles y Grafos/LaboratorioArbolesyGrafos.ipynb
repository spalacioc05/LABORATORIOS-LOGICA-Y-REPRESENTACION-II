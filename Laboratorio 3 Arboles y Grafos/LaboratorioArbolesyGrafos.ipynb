{
  "nbformat": 4,
  "nbformat_minor": 0,
  "metadata": {
    "colab": {
      "provenance": []
    },
    "kernelspec": {
      "name": "python3",
      "display_name": "Python 3"
    },
    "language_info": {
      "name": "python"
    }
  },
  "cells": [
    {
      "cell_type": "markdown",
      "source": [
        "# **Arboles**\n",
        "\n",
        "Implementa un programa en Python que permita gestionar un árbol binario de búsqueda con las siguientes opciones:\n",
        "\n",
        "**Opción 1:** Insertar Números en el Árbol\n",
        "\n",
        "El usuario debe poder ingresar una serie de números que se insertarán en un árbol binario de búsqueda. La inserción debe seguir la regla clásica de estos árboles: los números mayores deben colocarse en el subárbol derecho y los números menores en el subárbol izquierdo. Esta opción permite al usuario construir el árbol inicial.\n",
        "\n",
        "**Opción 2:** Balancear el Árbol\n",
        "\n",
        "Después de que el usuario haya ingresado todos los números, el programa debe verificar si el árbol está balanceado. Si el árbol no está balanceado, el programa debe aplicar las rotaciones necesarias hacia la izquierda o hacia la derecha para convertirlo en un árbol balanceado. Un árbol está balanceado si la diferencia de altura entre el subárbol izquierdo y el subárbol derecho de cualquier nodo no supera 1."
      ],
      "metadata": {
        "id": "hu5-NQ2aJ4ZU"
      }
    },
    {
      "cell_type": "code",
      "execution_count": null,
      "metadata": {
        "id": "_Tg6wlycJ3Zn"
      },
      "outputs": [],
      "source": [
        "#Inicie su código aca si asi lo desea."
      ]
    },
    {
      "cell_type": "markdown",
      "source": [
        "# Red Social\n",
        "\n",
        "Implementa un programa en Python que permita simular una red social utilizando las bibliotecas NetworkX y Matplotlib. El programa debe seguir los siguientes requerimientos:\n",
        "\n",
        "**Generación de la Red Social:**\n",
        "\n",
        "\n",
        "* Crea una red social con 100 miembros representados como nodos de un grafo.\n",
        "* Cada miembro debe tener un número aleatorio de amigos (es decir, conexiones o aristas en el grafo) que varíe entre 5 y 10 amigos.\n",
        "* Genera las conexiones de manera aleatoria, asegurando que cada miembro tenga la cantidad de amigos especificada.\n",
        "\n",
        "**Visualización de la Red:** Utiliza Matplotlib para visualizar el grafo creado, mostrando los miembros y sus conexiones de amistad.\n",
        "\n",
        "**Búsqueda de Amigos en Común:**\n",
        "\n",
        "* El algoritmo debe tener la capacidad de recibir como entrada los nombres (o identificadores) de dos personas de la red y mostrar sus amigos en común.\n",
        "* Muestra los amigos en común en la consola y destaca, si es posible, las conexiones compartidas en la visualización del grafo para que sean identificables en la gráfica generada.\n",
        "\n",
        "\n",
        "\n",
        "\n",
        "\n"
      ],
      "metadata": {
        "id": "zQlhyWfWLIvK"
      }
    },
    {
      "cell_type": "code",
      "source": [
        "#Inicie su código aca si asi lo desea."
      ],
      "metadata": {
        "id": "SMIb5uSjMIGW"
      },
      "execution_count": null,
      "outputs": []
    }
  ]
}