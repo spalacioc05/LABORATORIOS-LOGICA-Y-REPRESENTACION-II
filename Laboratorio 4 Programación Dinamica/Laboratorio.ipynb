{
 "cells": [
  {
   "metadata": {},
   "cell_type": "markdown",
   "source": [
    "# **Planificación de Horarios para Trabajadores en una Planta de Producción**\n",
    "\n",
    "Una planta de producción tiene un número de trabajadores, cada uno con un conjunto de habilidades específicas y horas de disponibilidad. La planta tiene diferentes turnos a cubrir, cada uno con requisitos específicos de habilidades y una duración en horas.\n",
    "\n",
    "El objetivo es planificar los horarios de trabajo de manera que se cumplan los requisitos de cada turno, minimizando las horas extra trabajadas y maximizando la cantidad de turnos cubiertos.\n",
    "\n",
    "**Los datos incluyen:**\n",
    "\n",
    "* Una lista de trabajadores, cada uno con:\n",
    "* Sus habilidades (por ejemplo, soldadura, ensamblaje, control de calidad, etc.).\n",
    "* Su disponibilidad en horas (por ejemplo, 40 horas semanales).\n",
    "* Una lista de turnos, cada uno con:\n",
    "    * Requisitos de habilidades (por ejemplo, se necesita un trabajador que sepa soldar y otro para ensamblaje).\n",
    "    * Duración en horas.\n",
    "    * Prioridad (algunos turnos son más importantes que otros).\n",
    "\n",
    "Escribir un programa en Python que, usando programación dinámica, asigne turnos a los trabajadores de manera óptima, maximizando la cantidad de turnos cubiertos y minimizando las horas extras.\n"
   ],
   "id": "b4404a691f7378eb"
  },
  {
   "metadata": {
    "collapsed": true
   },
   "cell_type": "code",
   "outputs": [],
   "execution_count": null,
   "source": "#Inicie su código aca si asi lo desea.",
   "id": "initial_id"
  }
 ],
 "metadata": {
  "kernelspec": {
   "display_name": "Python 3",
   "language": "python",
   "name": "python3"
  },
  "language_info": {
   "codemirror_mode": {
    "name": "ipython",
    "version": 2
   },
   "file_extension": ".py",
   "mimetype": "text/x-python",
   "name": "python",
   "nbconvert_exporter": "python",
   "pygments_lexer": "ipython2",
   "version": "2.7.6"
  }
 },
 "nbformat": 4,
 "nbformat_minor": 5
}
