{
 "cells": [
  {
   "cell_type": "markdown",
   "id": "b4404a691f7378eb",
   "metadata": {},
   "source": [
    "# **Planificación de Horarios para Trabajadores en una Planta de Producción**\n",
    "\n",
    "Una planta de producción tiene un número de trabajadores, cada uno con un conjunto de habilidades específicas y horas de disponibilidad. La planta tiene diferentes turnos a cubrir, cada uno con requisitos específicos de habilidades y una duración en horas.\n",
    "\n",
    "El objetivo es planificar los horarios de trabajo de manera que se cumplan los requisitos de cada turno, minimizando las horas extra trabajadas y maximizando la cantidad de turnos cubiertos.\n",
    "\n",
    "**Los datos incluyen:**\n",
    "\n",
    "* Una lista de trabajadores, cada uno con:\n",
    "* Sus habilidades (por ejemplo, soldadura, ensamblaje, control de calidad, etc.).\n",
    "* Su disponibilidad en horas (por ejemplo, 40 horas semanales).\n",
    "* Una lista de turnos, cada uno con:\n",
    "    * Requisitos de habilidades (por ejemplo, se necesita un trabajador que sepa soldar y otro para ensamblaje).\n",
    "    * Duración en horas.\n",
    "    * Prioridad (algunos turnos son más importantes que otros).\n",
    "\n",
    "Escribir un programa en Python que, usando programación dinámica, asigne turnos a los trabajadores de manera óptima, maximizando la cantidad de turnos cubiertos y minimizando las horas extras.\n"
   ]
  },
  {
   "cell_type": "code",
   "execution_count": 6,
   "id": "initial_id",
   "metadata": {
    "ExecuteTime": {
     "end_time": "2024-11-20T02:50:17.853261Z",
     "start_time": "2024-11-20T02:50:17.837722Z"
    },
    "collapsed": true
   },
   "outputs": [
    {
     "name": "stdout",
     "output_type": "stream",
     "text": [
      "Trabajador Alicia asignado al turno que requiere ['ensamblaje'] por 6 horas\n",
      "Trabajador Roberto asignado al turno que requiere ['control_calidad'] por 4 horas\n",
      "Trabajador Alicia asignado al turno que requiere ['soldadura', 'ensamblaje'] por 8 horas\n"
     ]
    }
   ],
   "source": [
    "from collections import defaultdict\n",
    "\n",
    "class Trabajador:\n",
    "    def __init__(self, nombre, habilidades, disponibilidad):\n",
    "        self.nombre = nombre\n",
    "        self.habilidades = set(habilidades)\n",
    "        self.disponibilidad = disponibilidad\n",
    "        self.horas_asignadas = 0\n",
    "\n",
    "class Turno:\n",
    "    def __init__(self, habilidades_requeridas, duracion, prioridad):\n",
    "        self.habilidades_requeridas = habilidades_requeridas\n",
    "        self.duracion = duracion\n",
    "        self.prioridad = prioridad\n",
    "\n",
    "def asignar_turnos(trabajadores, turnos):\n",
    "    # Ordenar turnos por prioridad (mayor prioridad primero)\n",
    "    turnos.sort(key=lambda x: x.prioridad, reverse=True)\n",
    "    \n",
    "    # Tabla DP para almacenar la mejor asignación\n",
    "    dp = defaultdict(lambda: float('-inf'))\n",
    "    dp[0] = 0  # Caso base: ningún turno asignado, ninguna hora trabajada\n",
    "    \n",
    "    # Seguimiento de la mejor asignación\n",
    "    mejor_asignacion = {}\n",
    "    \n",
    "    for turno in turnos:\n",
    "        nuevo_dp = dp.copy()\n",
    "        for estado, valor in dp.items():\n",
    "            for trabajador in trabajadores:\n",
    "                if trabajador.habilidades >= set(turno.habilidades_requeridas) and trabajador.disponibilidad - trabajador.horas_asignadas >= turno.duracion:\n",
    "                    nuevo_estado = estado | (1 << turnos.index(turno))\n",
    "                    nuevo_valor = valor + turno.prioridad\n",
    "                    if nuevo_valor > nuevo_dp[nuevo_estado]:\n",
    "                        nuevo_dp[nuevo_estado] = nuevo_valor\n",
    "                        mejor_asignacion[nuevo_estado] = (trabajador, turno)\n",
    "                        trabajador.horas_asignadas += turno.duracion\n",
    "        dp = nuevo_dp\n",
    "    \n",
    "    # Extraer la mejor asignación\n",
    "    max_estado = max(dp, key=dp.get)\n",
    "    asignacion = []\n",
    "    while max_estado:\n",
    "        trabajador, turno = mejor_asignacion[max_estado]\n",
    "        asignacion.append((trabajador.nombre, turno.habilidades_requeridas, turno.duracion))\n",
    "        max_estado &= ~(1 << turnos.index(turno))\n",
    "    \n",
    "    return asignacion\n",
    "\n",
    "# Ejemplo de uso\n",
    "trabajadores = [\n",
    "    Trabajador(\"Alicia\", [\"soldadura\", \"ensamblaje\"], 40),\n",
    "    Trabajador(\"Roberto\", [\"control_calidad\", \"ensamblaje\"], 40),\n",
    "    Trabajador(\"Carlos\", [\"soldadura\", \"control_calidad\"], 40)\n",
    "]\n",
    "\n",
    "turnos = [\n",
    "    Turno([\"soldadura\", \"ensamblaje\"], 8, 3),\n",
    "    Turno([\"control_calidad\"], 4, 2),\n",
    "    Turno([\"ensamblaje\"], 6, 1)\n",
    "]\n",
    "\n",
    "asignacion = asignar_turnos(trabajadores, turnos)\n",
    "for a in asignacion:\n",
    "    print(f\"Trabajador {a[0]} asignado al turno que requiere {a[1]} por {a[2]} horas\")"
   ]
  }
 ],
 "metadata": {
  "kernelspec": {
   "display_name": "Python 3",
   "language": "python",
   "name": "python3"
  },
  "language_info": {
   "codemirror_mode": {
    "name": "ipython",
    "version": 3
   },
   "file_extension": ".py",
   "mimetype": "text/x-python",
   "name": "python",
   "nbconvert_exporter": "python",
   "pygments_lexer": "ipython3",
   "version": "3.12.4"
  }
 },
 "nbformat": 4,
 "nbformat_minor": 5
}
